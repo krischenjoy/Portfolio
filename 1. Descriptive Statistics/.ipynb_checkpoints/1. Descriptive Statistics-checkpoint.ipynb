{
 "cells": [
  {
   "cell_type": "markdown",
   "id": "2f6742a9",
   "metadata": {},
   "source": [
    "<font size = 6 color = 'maroon'>Descriptive Statistics</font>\n",
    "\n",
    "Analytics starts with understanding the data and its context. Correct comprehension of the dataset and its statistics leads to better conclusions. This exercise demonstrates exploration and descriptive statistics of the Song Popularity open dataset from Kaggle.\n",
    "\n",
    "Dataset: https://www.kaggle.com/datasets/yasserh/song-popularity-dataset?resource=download&select=song_data.csv\n",
    "\n",
    "**Intro to the Dataset**\n",
    "\n",
    "The Song Popularity dataset contains song titles and its features. It conveniently has a numeric metric of popularity. The qualities of the songs, such as danceability and energy among others, are also numerically described in the dataset.\n"
   ]
  },
  {
   "cell_type": "markdown",
   "id": "5c13aa31",
   "metadata": {},
   "source": [
    "# Preliminaries"
   ]
  },
  {
   "cell_type": "markdown",
   "id": "c0c16826",
   "metadata": {},
   "source": [
    "Import Packages"
   ]
  },
  {
   "cell_type": "code",
   "execution_count": 1,
   "id": "987bc8b7",
   "metadata": {},
   "outputs": [],
   "source": [
    "import pandas as pd\n",
    "import numpy as np\n",
    "import matplotlib.pyplot as plt\n",
    "from scipy.stats import norm"
   ]
  },
  {
   "cell_type": "markdown",
   "id": "c8ef86ef",
   "metadata": {},
   "source": [
    "Import data"
   ]
  },
  {
   "cell_type": "code",
   "execution_count": 2,
   "id": "2d8b9c13",
   "metadata": {},
   "outputs": [
    {
     "data": {
      "text/html": [
       "<div>\n",
       "<style scoped>\n",
       "    .dataframe tbody tr th:only-of-type {\n",
       "        vertical-align: middle;\n",
       "    }\n",
       "\n",
       "    .dataframe tbody tr th {\n",
       "        vertical-align: top;\n",
       "    }\n",
       "\n",
       "    .dataframe thead th {\n",
       "        text-align: right;\n",
       "    }\n",
       "</style>\n",
       "<table border=\"1\" class=\"dataframe\">\n",
       "  <thead>\n",
       "    <tr style=\"text-align: right;\">\n",
       "      <th></th>\n",
       "      <th>song_name</th>\n",
       "      <th>song_popularity</th>\n",
       "      <th>song_duration_ms</th>\n",
       "      <th>acousticness</th>\n",
       "      <th>danceability</th>\n",
       "      <th>energy</th>\n",
       "      <th>instrumentalness</th>\n",
       "      <th>key</th>\n",
       "      <th>liveness</th>\n",
       "      <th>loudness</th>\n",
       "      <th>audio_mode</th>\n",
       "      <th>speechiness</th>\n",
       "      <th>tempo</th>\n",
       "      <th>time_signature</th>\n",
       "      <th>audio_valence</th>\n",
       "    </tr>\n",
       "  </thead>\n",
       "  <tbody>\n",
       "    <tr>\n",
       "      <th>0</th>\n",
       "      <td>Boulevard of Broken Dreams</td>\n",
       "      <td>73</td>\n",
       "      <td>262333</td>\n",
       "      <td>0.005520</td>\n",
       "      <td>0.496</td>\n",
       "      <td>0.682</td>\n",
       "      <td>0.000029</td>\n",
       "      <td>8</td>\n",
       "      <td>0.0589</td>\n",
       "      <td>-4.095</td>\n",
       "      <td>1</td>\n",
       "      <td>0.0294</td>\n",
       "      <td>167.060</td>\n",
       "      <td>4</td>\n",
       "      <td>0.474</td>\n",
       "    </tr>\n",
       "    <tr>\n",
       "      <th>1</th>\n",
       "      <td>In The End</td>\n",
       "      <td>66</td>\n",
       "      <td>216933</td>\n",
       "      <td>0.010300</td>\n",
       "      <td>0.542</td>\n",
       "      <td>0.853</td>\n",
       "      <td>0.000000</td>\n",
       "      <td>3</td>\n",
       "      <td>0.1080</td>\n",
       "      <td>-6.407</td>\n",
       "      <td>0</td>\n",
       "      <td>0.0498</td>\n",
       "      <td>105.256</td>\n",
       "      <td>4</td>\n",
       "      <td>0.370</td>\n",
       "    </tr>\n",
       "    <tr>\n",
       "      <th>2</th>\n",
       "      <td>Seven Nation Army</td>\n",
       "      <td>76</td>\n",
       "      <td>231733</td>\n",
       "      <td>0.008170</td>\n",
       "      <td>0.737</td>\n",
       "      <td>0.463</td>\n",
       "      <td>0.447000</td>\n",
       "      <td>0</td>\n",
       "      <td>0.2550</td>\n",
       "      <td>-7.828</td>\n",
       "      <td>1</td>\n",
       "      <td>0.0792</td>\n",
       "      <td>123.881</td>\n",
       "      <td>4</td>\n",
       "      <td>0.324</td>\n",
       "    </tr>\n",
       "    <tr>\n",
       "      <th>3</th>\n",
       "      <td>By The Way</td>\n",
       "      <td>74</td>\n",
       "      <td>216933</td>\n",
       "      <td>0.026400</td>\n",
       "      <td>0.451</td>\n",
       "      <td>0.970</td>\n",
       "      <td>0.003550</td>\n",
       "      <td>0</td>\n",
       "      <td>0.1020</td>\n",
       "      <td>-4.938</td>\n",
       "      <td>1</td>\n",
       "      <td>0.1070</td>\n",
       "      <td>122.444</td>\n",
       "      <td>4</td>\n",
       "      <td>0.198</td>\n",
       "    </tr>\n",
       "    <tr>\n",
       "      <th>4</th>\n",
       "      <td>How You Remind Me</td>\n",
       "      <td>56</td>\n",
       "      <td>223826</td>\n",
       "      <td>0.000954</td>\n",
       "      <td>0.447</td>\n",
       "      <td>0.766</td>\n",
       "      <td>0.000000</td>\n",
       "      <td>10</td>\n",
       "      <td>0.1130</td>\n",
       "      <td>-5.065</td>\n",
       "      <td>1</td>\n",
       "      <td>0.0313</td>\n",
       "      <td>172.011</td>\n",
       "      <td>4</td>\n",
       "      <td>0.574</td>\n",
       "    </tr>\n",
       "    <tr>\n",
       "      <th>...</th>\n",
       "      <td>...</td>\n",
       "      <td>...</td>\n",
       "      <td>...</td>\n",
       "      <td>...</td>\n",
       "      <td>...</td>\n",
       "      <td>...</td>\n",
       "      <td>...</td>\n",
       "      <td>...</td>\n",
       "      <td>...</td>\n",
       "      <td>...</td>\n",
       "      <td>...</td>\n",
       "      <td>...</td>\n",
       "      <td>...</td>\n",
       "      <td>...</td>\n",
       "      <td>...</td>\n",
       "    </tr>\n",
       "    <tr>\n",
       "      <th>18830</th>\n",
       "      <td>Let It Breathe</td>\n",
       "      <td>60</td>\n",
       "      <td>159645</td>\n",
       "      <td>0.893000</td>\n",
       "      <td>0.500</td>\n",
       "      <td>0.151</td>\n",
       "      <td>0.000065</td>\n",
       "      <td>11</td>\n",
       "      <td>0.1110</td>\n",
       "      <td>-16.107</td>\n",
       "      <td>1</td>\n",
       "      <td>0.0348</td>\n",
       "      <td>113.969</td>\n",
       "      <td>4</td>\n",
       "      <td>0.300</td>\n",
       "    </tr>\n",
       "    <tr>\n",
       "      <th>18831</th>\n",
       "      <td>Answers</td>\n",
       "      <td>60</td>\n",
       "      <td>205666</td>\n",
       "      <td>0.765000</td>\n",
       "      <td>0.495</td>\n",
       "      <td>0.161</td>\n",
       "      <td>0.000001</td>\n",
       "      <td>11</td>\n",
       "      <td>0.1050</td>\n",
       "      <td>-14.078</td>\n",
       "      <td>0</td>\n",
       "      <td>0.0301</td>\n",
       "      <td>94.286</td>\n",
       "      <td>4</td>\n",
       "      <td>0.265</td>\n",
       "    </tr>\n",
       "    <tr>\n",
       "      <th>18832</th>\n",
       "      <td>Sudden Love (Acoustic)</td>\n",
       "      <td>23</td>\n",
       "      <td>182211</td>\n",
       "      <td>0.847000</td>\n",
       "      <td>0.719</td>\n",
       "      <td>0.325</td>\n",
       "      <td>0.000000</td>\n",
       "      <td>0</td>\n",
       "      <td>0.1250</td>\n",
       "      <td>-12.222</td>\n",
       "      <td>1</td>\n",
       "      <td>0.0355</td>\n",
       "      <td>130.534</td>\n",
       "      <td>4</td>\n",
       "      <td>0.286</td>\n",
       "    </tr>\n",
       "    <tr>\n",
       "      <th>18833</th>\n",
       "      <td>Gentle on My Mind</td>\n",
       "      <td>55</td>\n",
       "      <td>352280</td>\n",
       "      <td>0.945000</td>\n",
       "      <td>0.488</td>\n",
       "      <td>0.326</td>\n",
       "      <td>0.015700</td>\n",
       "      <td>3</td>\n",
       "      <td>0.1190</td>\n",
       "      <td>-12.020</td>\n",
       "      <td>1</td>\n",
       "      <td>0.0328</td>\n",
       "      <td>106.063</td>\n",
       "      <td>4</td>\n",
       "      <td>0.323</td>\n",
       "    </tr>\n",
       "    <tr>\n",
       "      <th>18834</th>\n",
       "      <td>Up to Me</td>\n",
       "      <td>60</td>\n",
       "      <td>193533</td>\n",
       "      <td>0.911000</td>\n",
       "      <td>0.640</td>\n",
       "      <td>0.381</td>\n",
       "      <td>0.000254</td>\n",
       "      <td>4</td>\n",
       "      <td>0.1040</td>\n",
       "      <td>-11.790</td>\n",
       "      <td>1</td>\n",
       "      <td>0.0302</td>\n",
       "      <td>91.490</td>\n",
       "      <td>4</td>\n",
       "      <td>0.581</td>\n",
       "    </tr>\n",
       "  </tbody>\n",
       "</table>\n",
       "<p>18835 rows × 15 columns</p>\n",
       "</div>"
      ],
      "text/plain": [
       "                        song_name  song_popularity  song_duration_ms  \\\n",
       "0      Boulevard of Broken Dreams               73            262333   \n",
       "1                      In The End               66            216933   \n",
       "2               Seven Nation Army               76            231733   \n",
       "3                      By The Way               74            216933   \n",
       "4               How You Remind Me               56            223826   \n",
       "...                           ...              ...               ...   \n",
       "18830              Let It Breathe               60            159645   \n",
       "18831                     Answers               60            205666   \n",
       "18832      Sudden Love (Acoustic)               23            182211   \n",
       "18833           Gentle on My Mind               55            352280   \n",
       "18834                    Up to Me               60            193533   \n",
       "\n",
       "       acousticness  danceability  energy  instrumentalness  key  liveness  \\\n",
       "0          0.005520         0.496   0.682          0.000029    8    0.0589   \n",
       "1          0.010300         0.542   0.853          0.000000    3    0.1080   \n",
       "2          0.008170         0.737   0.463          0.447000    0    0.2550   \n",
       "3          0.026400         0.451   0.970          0.003550    0    0.1020   \n",
       "4          0.000954         0.447   0.766          0.000000   10    0.1130   \n",
       "...             ...           ...     ...               ...  ...       ...   \n",
       "18830      0.893000         0.500   0.151          0.000065   11    0.1110   \n",
       "18831      0.765000         0.495   0.161          0.000001   11    0.1050   \n",
       "18832      0.847000         0.719   0.325          0.000000    0    0.1250   \n",
       "18833      0.945000         0.488   0.326          0.015700    3    0.1190   \n",
       "18834      0.911000         0.640   0.381          0.000254    4    0.1040   \n",
       "\n",
       "       loudness  audio_mode  speechiness    tempo  time_signature  \\\n",
       "0        -4.095           1       0.0294  167.060               4   \n",
       "1        -6.407           0       0.0498  105.256               4   \n",
       "2        -7.828           1       0.0792  123.881               4   \n",
       "3        -4.938           1       0.1070  122.444               4   \n",
       "4        -5.065           1       0.0313  172.011               4   \n",
       "...         ...         ...          ...      ...             ...   \n",
       "18830   -16.107           1       0.0348  113.969               4   \n",
       "18831   -14.078           0       0.0301   94.286               4   \n",
       "18832   -12.222           1       0.0355  130.534               4   \n",
       "18833   -12.020           1       0.0328  106.063               4   \n",
       "18834   -11.790           1       0.0302   91.490               4   \n",
       "\n",
       "       audio_valence  \n",
       "0              0.474  \n",
       "1              0.370  \n",
       "2              0.324  \n",
       "3              0.198  \n",
       "4              0.574  \n",
       "...              ...  \n",
       "18830          0.300  \n",
       "18831          0.265  \n",
       "18832          0.286  \n",
       "18833          0.323  \n",
       "18834          0.581  \n",
       "\n",
       "[18835 rows x 15 columns]"
      ]
     },
     "metadata": {},
     "output_type": "display_data"
    }
   ],
   "source": [
    "df = pd.read_csv(\"song_data.csv\")\n",
    "display(df)"
   ]
  },
  {
   "cell_type": "markdown",
   "id": "edc8e815",
   "metadata": {},
   "source": [
    "# Data Description"
   ]
  },
  {
   "cell_type": "markdown",
   "id": "72e16f47",
   "metadata": {},
   "source": [
    "Check the data types."
   ]
  },
  {
   "cell_type": "code",
   "execution_count": 3,
   "id": "0a6fcdbf",
   "metadata": {},
   "outputs": [
    {
     "data": {
      "text/plain": [
       "song_name            object\n",
       "song_popularity       int64\n",
       "song_duration_ms      int64\n",
       "acousticness        float64\n",
       "danceability        float64\n",
       "energy              float64\n",
       "instrumentalness    float64\n",
       "key                   int64\n",
       "liveness            float64\n",
       "loudness            float64\n",
       "audio_mode            int64\n",
       "speechiness         float64\n",
       "tempo               float64\n",
       "time_signature        int64\n",
       "audio_valence       float64\n",
       "dtype: object"
      ]
     },
     "execution_count": 3,
     "metadata": {},
     "output_type": "execute_result"
    }
   ],
   "source": [
    "df.dtypes"
   ]
  },
  {
   "cell_type": "markdown",
   "id": "375ad2ed",
   "metadata": {},
   "source": [
    "Check the shape of the dataset."
   ]
  },
  {
   "cell_type": "code",
   "execution_count": 4,
   "id": "a5ca98bd",
   "metadata": {},
   "outputs": [
    {
     "name": "stdout",
     "output_type": "stream",
     "text": [
      "The dataset has 18835 records and 15 columns.\n",
      "Total of 282525 elements.\n"
     ]
    }
   ],
   "source": [
    "rows, columns = df.shape\n",
    "print('The dataset has {} records and {} columns.'.format(rows,columns))\n",
    "print('Total of {} elements.'.format(rows*columns))"
   ]
  },
  {
   "cell_type": "markdown",
   "id": "bf5c2f1c",
   "metadata": {},
   "source": [
    "For numerical columns, we can quickly generate statistics."
   ]
  },
  {
   "cell_type": "code",
   "execution_count": 5,
   "id": "ae2dd390",
   "metadata": {},
   "outputs": [
    {
     "data": {
      "text/html": [
       "<div>\n",
       "<style scoped>\n",
       "    .dataframe tbody tr th:only-of-type {\n",
       "        vertical-align: middle;\n",
       "    }\n",
       "\n",
       "    .dataframe tbody tr th {\n",
       "        vertical-align: top;\n",
       "    }\n",
       "\n",
       "    .dataframe thead th {\n",
       "        text-align: right;\n",
       "    }\n",
       "</style>\n",
       "<table border=\"1\" class=\"dataframe\">\n",
       "  <thead>\n",
       "    <tr style=\"text-align: right;\">\n",
       "      <th></th>\n",
       "      <th>song_popularity</th>\n",
       "      <th>song_duration_ms</th>\n",
       "      <th>acousticness</th>\n",
       "      <th>danceability</th>\n",
       "      <th>energy</th>\n",
       "      <th>instrumentalness</th>\n",
       "      <th>key</th>\n",
       "      <th>liveness</th>\n",
       "      <th>loudness</th>\n",
       "      <th>audio_mode</th>\n",
       "      <th>speechiness</th>\n",
       "      <th>tempo</th>\n",
       "      <th>time_signature</th>\n",
       "      <th>audio_valence</th>\n",
       "    </tr>\n",
       "  </thead>\n",
       "  <tbody>\n",
       "    <tr>\n",
       "      <th>count</th>\n",
       "      <td>18835.000000</td>\n",
       "      <td>1.883500e+04</td>\n",
       "      <td>18835.000000</td>\n",
       "      <td>18835.000000</td>\n",
       "      <td>18835.000000</td>\n",
       "      <td>18835.000000</td>\n",
       "      <td>18835.000000</td>\n",
       "      <td>18835.000000</td>\n",
       "      <td>18835.000000</td>\n",
       "      <td>18835.000000</td>\n",
       "      <td>18835.000000</td>\n",
       "      <td>18835.000000</td>\n",
       "      <td>18835.000000</td>\n",
       "      <td>18835.000000</td>\n",
       "    </tr>\n",
       "    <tr>\n",
       "      <th>mean</th>\n",
       "      <td>52.991877</td>\n",
       "      <td>2.182116e+05</td>\n",
       "      <td>0.258539</td>\n",
       "      <td>0.633348</td>\n",
       "      <td>0.644995</td>\n",
       "      <td>0.078008</td>\n",
       "      <td>5.289196</td>\n",
       "      <td>0.179650</td>\n",
       "      <td>-7.447435</td>\n",
       "      <td>0.628139</td>\n",
       "      <td>0.102099</td>\n",
       "      <td>121.073154</td>\n",
       "      <td>3.959119</td>\n",
       "      <td>0.527967</td>\n",
       "    </tr>\n",
       "    <tr>\n",
       "      <th>std</th>\n",
       "      <td>21.905654</td>\n",
       "      <td>5.988754e+04</td>\n",
       "      <td>0.288719</td>\n",
       "      <td>0.156723</td>\n",
       "      <td>0.214101</td>\n",
       "      <td>0.221591</td>\n",
       "      <td>3.614595</td>\n",
       "      <td>0.143984</td>\n",
       "      <td>3.827831</td>\n",
       "      <td>0.483314</td>\n",
       "      <td>0.104378</td>\n",
       "      <td>28.714456</td>\n",
       "      <td>0.298533</td>\n",
       "      <td>0.244632</td>\n",
       "    </tr>\n",
       "    <tr>\n",
       "      <th>min</th>\n",
       "      <td>0.000000</td>\n",
       "      <td>1.200000e+04</td>\n",
       "      <td>0.000001</td>\n",
       "      <td>0.000000</td>\n",
       "      <td>0.001070</td>\n",
       "      <td>0.000000</td>\n",
       "      <td>0.000000</td>\n",
       "      <td>0.010900</td>\n",
       "      <td>-38.768000</td>\n",
       "      <td>0.000000</td>\n",
       "      <td>0.000000</td>\n",
       "      <td>0.000000</td>\n",
       "      <td>0.000000</td>\n",
       "      <td>0.000000</td>\n",
       "    </tr>\n",
       "    <tr>\n",
       "      <th>25%</th>\n",
       "      <td>40.000000</td>\n",
       "      <td>1.843395e+05</td>\n",
       "      <td>0.024100</td>\n",
       "      <td>0.533000</td>\n",
       "      <td>0.510000</td>\n",
       "      <td>0.000000</td>\n",
       "      <td>2.000000</td>\n",
       "      <td>0.092900</td>\n",
       "      <td>-9.044000</td>\n",
       "      <td>0.000000</td>\n",
       "      <td>0.037800</td>\n",
       "      <td>98.368000</td>\n",
       "      <td>4.000000</td>\n",
       "      <td>0.335000</td>\n",
       "    </tr>\n",
       "    <tr>\n",
       "      <th>50%</th>\n",
       "      <td>56.000000</td>\n",
       "      <td>2.113060e+05</td>\n",
       "      <td>0.132000</td>\n",
       "      <td>0.645000</td>\n",
       "      <td>0.674000</td>\n",
       "      <td>0.000011</td>\n",
       "      <td>5.000000</td>\n",
       "      <td>0.122000</td>\n",
       "      <td>-6.555000</td>\n",
       "      <td>1.000000</td>\n",
       "      <td>0.055500</td>\n",
       "      <td>120.013000</td>\n",
       "      <td>4.000000</td>\n",
       "      <td>0.527000</td>\n",
       "    </tr>\n",
       "    <tr>\n",
       "      <th>75%</th>\n",
       "      <td>69.000000</td>\n",
       "      <td>2.428440e+05</td>\n",
       "      <td>0.424000</td>\n",
       "      <td>0.748000</td>\n",
       "      <td>0.815000</td>\n",
       "      <td>0.002570</td>\n",
       "      <td>8.000000</td>\n",
       "      <td>0.221000</td>\n",
       "      <td>-4.908000</td>\n",
       "      <td>1.000000</td>\n",
       "      <td>0.119000</td>\n",
       "      <td>139.931000</td>\n",
       "      <td>4.000000</td>\n",
       "      <td>0.725000</td>\n",
       "    </tr>\n",
       "    <tr>\n",
       "      <th>max</th>\n",
       "      <td>100.000000</td>\n",
       "      <td>1.799346e+06</td>\n",
       "      <td>0.996000</td>\n",
       "      <td>0.987000</td>\n",
       "      <td>0.999000</td>\n",
       "      <td>0.997000</td>\n",
       "      <td>11.000000</td>\n",
       "      <td>0.986000</td>\n",
       "      <td>1.585000</td>\n",
       "      <td>1.000000</td>\n",
       "      <td>0.941000</td>\n",
       "      <td>242.318000</td>\n",
       "      <td>5.000000</td>\n",
       "      <td>0.984000</td>\n",
       "    </tr>\n",
       "  </tbody>\n",
       "</table>\n",
       "</div>"
      ],
      "text/plain": [
       "       song_popularity  song_duration_ms  acousticness  danceability  \\\n",
       "count     18835.000000      1.883500e+04  18835.000000  18835.000000   \n",
       "mean         52.991877      2.182116e+05      0.258539      0.633348   \n",
       "std          21.905654      5.988754e+04      0.288719      0.156723   \n",
       "min           0.000000      1.200000e+04      0.000001      0.000000   \n",
       "25%          40.000000      1.843395e+05      0.024100      0.533000   \n",
       "50%          56.000000      2.113060e+05      0.132000      0.645000   \n",
       "75%          69.000000      2.428440e+05      0.424000      0.748000   \n",
       "max         100.000000      1.799346e+06      0.996000      0.987000   \n",
       "\n",
       "             energy  instrumentalness           key      liveness  \\\n",
       "count  18835.000000      18835.000000  18835.000000  18835.000000   \n",
       "mean       0.644995          0.078008      5.289196      0.179650   \n",
       "std        0.214101          0.221591      3.614595      0.143984   \n",
       "min        0.001070          0.000000      0.000000      0.010900   \n",
       "25%        0.510000          0.000000      2.000000      0.092900   \n",
       "50%        0.674000          0.000011      5.000000      0.122000   \n",
       "75%        0.815000          0.002570      8.000000      0.221000   \n",
       "max        0.999000          0.997000     11.000000      0.986000   \n",
       "\n",
       "           loudness    audio_mode   speechiness         tempo  time_signature  \\\n",
       "count  18835.000000  18835.000000  18835.000000  18835.000000    18835.000000   \n",
       "mean      -7.447435      0.628139      0.102099    121.073154        3.959119   \n",
       "std        3.827831      0.483314      0.104378     28.714456        0.298533   \n",
       "min      -38.768000      0.000000      0.000000      0.000000        0.000000   \n",
       "25%       -9.044000      0.000000      0.037800     98.368000        4.000000   \n",
       "50%       -6.555000      1.000000      0.055500    120.013000        4.000000   \n",
       "75%       -4.908000      1.000000      0.119000    139.931000        4.000000   \n",
       "max        1.585000      1.000000      0.941000    242.318000        5.000000   \n",
       "\n",
       "       audio_valence  \n",
       "count   18835.000000  \n",
       "mean        0.527967  \n",
       "std         0.244632  \n",
       "min         0.000000  \n",
       "25%         0.335000  \n",
       "50%         0.527000  \n",
       "75%         0.725000  \n",
       "max         0.984000  "
      ]
     },
     "execution_count": 5,
     "metadata": {},
     "output_type": "execute_result"
    }
   ],
   "source": [
    "df.describe()"
   ]
  },
  {
   "cell_type": "markdown",
   "id": "6c9025c3",
   "metadata": {},
   "source": [
    "We can also check for unique values"
   ]
  },
  {
   "cell_type": "code",
   "execution_count": 6,
   "id": "e66db488",
   "metadata": {},
   "outputs": [
    {
     "data": {
      "text/plain": [
       "array([ 8,  3,  0, 10,  4,  2,  1,  9,  7, 11,  5,  6], dtype=int64)"
      ]
     },
     "execution_count": 6,
     "metadata": {},
     "output_type": "execute_result"
    }
   ],
   "source": [
    "df[\"key\"].unique()"
   ]
  },
  {
   "cell_type": "code",
   "execution_count": 7,
   "id": "f91f93f4",
   "metadata": {},
   "outputs": [
    {
     "data": {
      "text/plain": [
       "array([1, 0], dtype=int64)"
      ]
     },
     "execution_count": 7,
     "metadata": {},
     "output_type": "execute_result"
    }
   ],
   "source": [
    "df[\"audio_mode\"].unique()"
   ]
  },
  {
   "cell_type": "code",
   "execution_count": 8,
   "id": "f3010082",
   "metadata": {},
   "outputs": [
    {
     "data": {
      "text/plain": [
       "array([4, 3, 1, 5, 0], dtype=int64)"
      ]
     },
     "execution_count": 8,
     "metadata": {},
     "output_type": "execute_result"
    }
   ],
   "source": [
    "df[\"time_signature\"].unique()"
   ]
  },
  {
   "cell_type": "markdown",
   "id": "de8eba89",
   "metadata": {},
   "source": [
    "# Data Cleaning"
   ]
  },
  {
   "cell_type": "markdown",
   "id": "4ff69512",
   "metadata": {},
   "source": [
    "## Aligning Datatypes"
   ]
  },
  {
   "cell_type": "markdown",
   "id": "569c8b42",
   "metadata": {},
   "source": [
    "Notice that for some columns, even though they are numerical characters, they are used nominally or ordinally. For columns such as key, audio_mode, and time_signature, it makes sense to identify their datatypes as category or strings."
   ]
  },
  {
   "cell_type": "code",
   "execution_count": 9,
   "id": "dcc41aec",
   "metadata": {},
   "outputs": [],
   "source": [
    "df[['key','audio_mode','time_signature']] = df[['key','audio_mode','time_signature']].astype('category')"
   ]
  },
  {
   "cell_type": "markdown",
   "id": "a01cf0a4",
   "metadata": {},
   "source": [
    "Check dtypes again and notice the changed datatypes."
   ]
  },
  {
   "cell_type": "code",
   "execution_count": 10,
   "id": "7ec1832f",
   "metadata": {},
   "outputs": [
    {
     "data": {
      "text/plain": [
       "song_name             object\n",
       "song_popularity        int64\n",
       "song_duration_ms       int64\n",
       "acousticness         float64\n",
       "danceability         float64\n",
       "energy               float64\n",
       "instrumentalness     float64\n",
       "key                 category\n",
       "liveness             float64\n",
       "loudness             float64\n",
       "audio_mode          category\n",
       "speechiness          float64\n",
       "tempo                float64\n",
       "time_signature      category\n",
       "audio_valence        float64\n",
       "dtype: object"
      ]
     },
     "execution_count": 10,
     "metadata": {},
     "output_type": "execute_result"
    }
   ],
   "source": [
    "df.dtypes"
   ]
  },
  {
   "cell_type": "markdown",
   "id": "ed9f5bf5",
   "metadata": {},
   "source": [
    "## Check for nulls"
   ]
  },
  {
   "cell_type": "markdown",
   "id": "656a5d79",
   "metadata": {},
   "source": [
    "Records with null values are candidates for dropping. We can check whether such records exist. Below shows 0 null entries for all columns."
   ]
  },
  {
   "cell_type": "code",
   "execution_count": 11,
   "id": "02f1902d",
   "metadata": {
    "scrolled": true
   },
   "outputs": [
    {
     "data": {
      "text/plain": [
       "song_name           0\n",
       "song_popularity     0\n",
       "song_duration_ms    0\n",
       "acousticness        0\n",
       "danceability        0\n",
       "energy              0\n",
       "instrumentalness    0\n",
       "key                 0\n",
       "liveness            0\n",
       "loudness            0\n",
       "audio_mode          0\n",
       "speechiness         0\n",
       "tempo               0\n",
       "time_signature      0\n",
       "audio_valence       0\n",
       "dtype: int64"
      ]
     },
     "execution_count": 11,
     "metadata": {},
     "output_type": "execute_result"
    }
   ],
   "source": [
    "df.isna().sum()"
   ]
  },
  {
   "cell_type": "markdown",
   "id": "24160a11",
   "metadata": {},
   "source": [
    "## Convertions\n",
    "Notice that song_duration_ms is in milliseconds, which is not so intuitive. We may want to convert this to a more relatable unit, such as seconds, minutes, or hours."
   ]
  },
  {
   "cell_type": "code",
   "execution_count": 12,
   "id": "7d0b0660",
   "metadata": {},
   "outputs": [],
   "source": [
    "df['song_duration_mins'] = df['song_duration_ms'].apply(lambda x: x/1000/60)"
   ]
  },
  {
   "cell_type": "markdown",
   "id": "d0704d32",
   "metadata": {},
   "source": [
    "# Column Descriptions"
   ]
  },
  {
   "cell_type": "markdown",
   "id": "bd5a42d3",
   "metadata": {},
   "source": [
    "## Basic Stats"
   ]
  },
  {
   "cell_type": "markdown",
   "id": "db175b4f",
   "metadata": {},
   "source": [
    "Some stats we can check for each column: distribution, central tendency, dispersion, and shape. \n",
    "\n",
    "Let's try to show these for song_popularity."
   ]
  },
  {
   "cell_type": "code",
   "execution_count": 13,
   "id": "38769eb1",
   "metadata": {},
   "outputs": [
    {
     "data": {
      "text/plain": [
       "array([[<AxesSubplot:title={'center':'song_popularity'}>]], dtype=object)"
      ]
     },
     "execution_count": 13,
     "metadata": {},
     "output_type": "execute_result"
    },
    {
     "data": {
      "image/png": "[encoded data removed]",
      "text/plain": [
       "<Figure size 432x288 with 1 Axes>"
      ]
     },
     "metadata": {
      "needs_background": "light"
     },
     "output_type": "display_data"
    }
   ],
   "source": [
    "# histogram for the distributions\n",
    "col = ['song_popularity']\n",
    "\n",
    "# Option 1: using pandas df.hist()\n",
    "df[col].hist()"
   ]
  },
  {
   "cell_type": "code",
   "execution_count": 14,
   "id": "fabb0a72",
   "metadata": {},
   "outputs": [
    {
     "data": {
      "image/png": "[encoded data removed]",
      "text/plain": [
       "<Figure size 720x360 with 1 Axes>"
      ]
     },
     "metadata": {
      "needs_background": "light"
     },
     "output_type": "display_data"
    }
   ],
   "source": [
    "# Option 2: using pyplot as a more flexible alternative to pandas df.hist()\n",
    "import matplotlib.pyplot as plt\n",
    "from scipy.stats import norm\n",
    "\n",
    "x = df[col[0]]\n",
    "\n",
    "plt.figure(figsize=(10,5))\n",
    "plt.hist(x=x # x-axis values\n",
    "         , bins = 30 # number of bins\n",
    "        )\n",
    "\n",
    "# plt.plot(x,\n",
    "#         norm.pdf(x)\n",
    "#         )\n",
    "\n",
    "plt.title(col[0])\n",
    "plt.xlabel('value')\n",
    "plt.ylabel('count')\n",
    "plt.show()"
   ]
  },
  {
   "cell_type": "markdown",
   "id": "191559a8",
   "metadata": {},
   "source": [
    "**Measures of central tendency**\n",
    "\n",
    "A common question to ask is where the center of the distribution is located. This is commonly answered by using the \"average\" of the values. It is commonly calculated as the mean, however, it can also be defined to be the median or mode, whichever is needed or more convenient. \n",
    "\n",
    "The relationship of these metrics also reveals information about the shape of the distribution.\n",
    "* No-skew (Normal skewness): mean = median = mode\n",
    "* Right-skewed (Positive skewness): mode < median < mean (the tail extends [outliers] to the right)\n",
    "* Left-skewed (Negative skewness): mean < median < mode (the tail extends [outliers] to the left)"
   ]
  },
  {
   "cell_type": "code",
   "execution_count": 15,
   "id": "c005ab21",
   "metadata": {
    "code_folding": []
   },
   "outputs": [
    {
     "name": "stdout",
     "output_type": "stream",
     "text": [
      "\n",
      "song_popularity\n",
      "Mean: 52.99\n",
      "Median: 56.0\n",
      "Mode: 58\n",
      "The distribution is Left-skewed.\n",
      "\n"
     ]
    }
   ],
   "source": [
    "mean = df[col].mean()[0]\n",
    "median = df[col].median()[0]\n",
    "mode = df[col].mode().loc[0][0]\n",
    "\n",
    "skew = str()\n",
    "if mean == median and median == mode:\n",
    "    skew = 'No-skew'\n",
    "elif mean > median and median > mode:\n",
    "    skew = 'Right-skewed'\n",
    "elif mean < median and median < mode:\n",
    "    skew = 'Left-skewed'\n",
    "else:\n",
    "    None\n",
    "       \n",
    "\n",
    "print(\n",
    "\"\"\"\n",
    "{}\n",
    "Mean: {:.2f}\n",
    "Median: {}\n",
    "Mode: {}\n",
    "The distribution is {}.\n",
    "\"\"\".format(str(col[0]),mean,median,mode,skew)\n",
    ")"
   ]
  },
  {
   "cell_type": "markdown",
   "id": "b411dcf2",
   "metadata": {},
   "source": [
    "**Measures of dispersion**\n",
    "\n",
    "After knowing the center of the distribution, the next is to understand how concentrated [or dispersed] the values are to the mean. \n",
    "\n",
    "- Variance is the average squared distances from the mean. \n",
    "- Standard Deviation is, mathematically, the square root of the variance. Practically, we observe by empirical rule that 99.7% of data points falls within 3 standard deviations. Meaning, 99.7% falls within *mean - 3\\*std* and *mean + 3\\*std*.\n",
    "- Range is simply the difference between the highest and lowest observed value.\n",
    "- Interquartile Range (IQR) is the difference between the 75th and 25th percentile bounds. Practically, take the top 50% nearest data points to the median and take the range of those values."
   ]
  },
  {
   "cell_type": "code",
   "execution_count": 16,
   "id": "4e48642c",
   "metadata": {},
   "outputs": [
    {
     "name": "stdout",
     "output_type": "stream",
     "text": [
      "\n",
      "song_popularity\n",
      "Standard Deviation: 21.91\n",
      "Variance: 479.86\n",
      "Range: 100\n",
      "Interquartile range: 29.0 within values 40.00 and 69.00\n",
      "\n",
      "By empirical rule:\n",
      "68% of values fall within 31.09 and 74.90\n",
      "95% of values fall within 9.18 and 96.80\n",
      "99.7% of values fall within 9.18 and 96.80\n",
      "\n"
     ]
    }
   ],
   "source": [
    "std = df[col].std()[0]\n",
    "var = df[col].var()[0]\n",
    "rng = df[col].max()[0] - df[col].min()[0]\n",
    "perc25 = df[col].quantile(0.25)[0] # 25th percentile\n",
    "perc75 = df[col].quantile(0.75)[0] # 75th percentile\n",
    "IQR = perc75 - perc25\n",
    "\n",
    "# empirical rule\n",
    "\n",
    "# 68% of values within 1 standard deviations\n",
    "std1_lower = mean - 1*std\n",
    "std1_upper = mean + 1*std\n",
    "\n",
    "# 95% of values within 2 standard deviations\n",
    "std2_lower = mean - 2*std\n",
    "std2_upper = mean + 2*std\n",
    "\n",
    "# 99.7% of values within 3 standard deviations\n",
    "std3_lower = mean - 3*std\n",
    "std3_upper = mean + 3*std\n",
    "\n",
    "print(\n",
    "\"\"\"\n",
    "{}\n",
    "Standard Deviation: {:.2f}\n",
    "Variance: {:.2f}\n",
    "Range: {}\n",
    "Interquartile range: {} within values {:.2f} and {:.2f}\n",
    "\n",
    "By empirical rule:\n",
    "68% of values fall within {:.2f} and {:.2f}\n",
    "95% of values fall within {:.2f} and {:.2f}\n",
    "99.7% of values fall within {:.2f} and {:.2f}\n",
    "\"\"\".format(str(col[0]),std,var,rng,IQR,perc25,perc75,std1_lower,std1_upper,std2_lower,std2_upper,std2_lower,std2_upper)\n",
    ")"
   ]
  },
  {
   "cell_type": "markdown",
   "id": "eb453be0",
   "metadata": {},
   "source": [
    "**Measures of Shape**\n",
    "The center and dispersion of the distribution may take many shapes. Some may be more skewed than others. Some may be more concentrated to the mean than others. For these, we can calulate Skewness and Kurtosis.\n",
    "- Skewness describes the asymmetry of the distribution. A positive skew results from a right-skewed distribution, i.e., the right tail is extended [outliers] , as oppose to a negative skew.\n",
    "- Kurtosis describes the peakedness of the distribution. A positive kurtosis results from a thin (\"lepto\") distribution with long tails, a.k.a. leptokurtic. A negative kurtosis results from a broad (\"platy\") distribution with short tail, a.k.a. platykurtic.\n",
    "\n",
    "For both measures, normal distribution has value 0."
   ]
  },
  {
   "cell_type": "code",
   "execution_count": 17,
   "id": "a0fd1089",
   "metadata": {
    "scrolled": true
   },
   "outputs": [
    {
     "name": "stdout",
     "output_type": "stream",
     "text": [
      "\n",
      "song_popularity\n",
      "Skewness: -0.5015 Left-skewed\n",
      "Kurtosis: -0.1691 Platykurtic (Broad, short tails)\n",
      "\n"
     ]
    }
   ],
   "source": [
    "skew = df[col].skew()[0]\n",
    "kurt = df[col].kurt()[0]\n",
    "\n",
    "skewness = str()\n",
    "if skew == 0:\n",
    "    skewness = 'Normal'\n",
    "elif skew < 0:\n",
    "    skewness = 'Left-skewed'\n",
    "elif skew > 0:\n",
    "    skewness = 'Right-skewed'\n",
    "else:\n",
    "    None\n",
    "    \n",
    "kurtosis = str()\n",
    "if kurt == 0:\n",
    "    kurtosis = 'Normal'\n",
    "elif kurt < 0:\n",
    "    kurtosis = 'Platykurtic (Broad, short tails)'\n",
    "elif kurt > 0:\n",
    "    kurtosis = 'Leptokurtic (Thin, long tails)'\n",
    "else:\n",
    "    None\n",
    "\n",
    "print(\n",
    "\"\"\"\n",
    "{}\n",
    "Skewness: {:.4f} {}\n",
    "Kurtosis: {:.4f} {}\n",
    "\"\"\"\n",
    ".format(col[0],skew,skewness,kurt,kurtosis)\n",
    ")"
   ]
  },
  {
   "cell_type": "markdown",
   "id": "8ba2a4c9",
   "metadata": {},
   "source": [
    "**Describe() method** \n",
    "\n",
    "An easy way to gather some basic stats."
   ]
  },
  {
   "cell_type": "code",
   "execution_count": 18,
   "id": "e750ccfc",
   "metadata": {},
   "outputs": [
    {
     "data": {
      "text/plain": [
       "count    18835.000000\n",
       "mean        52.991877\n",
       "std         21.905654\n",
       "min          0.000000\n",
       "25%         40.000000\n",
       "50%         56.000000\n",
       "75%         69.000000\n",
       "max        100.000000\n",
       "Name: song_popularity, dtype: float64"
      ]
     },
     "execution_count": 18,
     "metadata": {},
     "output_type": "execute_result"
    }
   ],
   "source": [
    "df[col[0]].describe()"
   ]
  },
  {
   "cell_type": "markdown",
   "id": "d01a986c",
   "metadata": {},
   "source": [
    "## per Column"
   ]
  },
  {
   "cell_type": "markdown",
   "id": "75274121",
   "metadata": {},
   "source": [
    "### Define quick_stat() function for numeric columns\n",
    "To help make generating stats easily reusable and iterable, we can define quick_stats() as a function that generates all basic stats in one run."
   ]
  },
  {
   "cell_type": "code",
   "execution_count": 23,
   "id": "9e624214",
   "metadata": {},
   "outputs": [],
   "source": [
    "def quick_stat(df,col):\n",
    "    \"\"\"\n",
    "    param df : source dataframe\n",
    "    param col : string column name\n",
    "    \"\"\"\n",
    "    x = df[[col]]\n",
    "    \n",
    "    # Central Tendency\n",
    "    mean = x.mean()[0]\n",
    "    median = x.median()[0]\n",
    "    mode = x.mode().loc[0][0]\n",
    "\n",
    "    skew1 = str()\n",
    "    if mean == median and median == mode:\n",
    "        skew1 = 'No-skew'\n",
    "    elif mean > median and median > mode:\n",
    "        skew1 = 'Right-skewed'\n",
    "    elif mean < median and median < mode:\n",
    "        skew1 = 'Left-skewed'\n",
    "    else:\n",
    "        None\n",
    "    \n",
    "    # Dispersion\n",
    "    std = x.std()[0]\n",
    "    var = x.var()[0]\n",
    "    rng = x.max()[0] - x.min()[0]\n",
    "    perc25 =x.quantile(0.25)[0] # 25th percentile\n",
    "    perc75 = x.quantile(0.75)[0] # 75th percentile\n",
    "    IQR = perc75 - perc25\n",
    "\n",
    "    # empirical rule\n",
    "\n",
    "    # 68% of values within 1 standard deviations\n",
    "    std1_lower = mean - 1*std\n",
    "    std1_upper = mean + 1*std\n",
    "\n",
    "    # 95% of values within 2 standard deviations\n",
    "    std2_lower = mean - 2*std\n",
    "    std2_upper = mean + 2*std\n",
    "\n",
    "    # 99.7% of values within 3 standard deviations\n",
    "    std3_lower = mean - 3*std\n",
    "    std3_upper = mean + 3*std\n",
    "\n",
    "    # Shape\n",
    "    skew = x.skew()[0]\n",
    "    kurt = x.kurt()[0]\n",
    "\n",
    "    skewness = str()\n",
    "    if skew == 0:\n",
    "        skewness = 'Normal'\n",
    "    elif skew < 0:\n",
    "        skewness = 'Left-skewed'\n",
    "    elif skew > 0:\n",
    "        skewness = 'Right-skewed'\n",
    "    else:\n",
    "        None\n",
    "\n",
    "    kurtosis = str()\n",
    "    if kurt == 0:\n",
    "        kurtosis = 'Normal'\n",
    "    elif kurt < 0:\n",
    "        kurtosis = 'Platykurtic (Broad, short tails)'\n",
    "    elif kurt > 0:\n",
    "        kurtosis = 'Leptokurtic (Thin, long tails)'\n",
    "    else:\n",
    "        None\n",
    "\n",
    "    \n",
    "    \n",
    "    \n",
    "\n",
    "    plt.figure(figsize=(10,5))\n",
    "    plt.hist(x=x # x-axis values\n",
    "             , bins = 30 # number of bins\n",
    "            )\n",
    "\n",
    "    plt.axvline(x=mean)\n",
    "    \n",
    "    plt.title(col)\n",
    "    plt.xlabel('value')\n",
    "    plt.ylabel('count')\n",
    "    plt.show()\n",
    "    \n",
    "    print(\n",
    "    \"\"\"\n",
    "    {}\n",
    "    Mean: {:.2f}\n",
    "    Median: {}\n",
    "    Mode: {}\n",
    "    The distribution is {} by mean,mode, median relationships.\n",
    "    \n",
    "    Standard Deviation: {:.2f}\n",
    "    Variance: {:.2f}\n",
    "    Range: {}\n",
    "    Interquartile range: {} within values {:.2f} and {:.2f}\n",
    "    \n",
    "    By empirical rule:\n",
    "    68% of values fall within {:.2f} and {:.2f}\n",
    "    95% of values fall within {:.2f} and {:.2f}\n",
    "    99.7% of values fall within {:.2f} and {:.2f}\n",
    "    \n",
    "    Skewness: {:.4f} {}\n",
    "    Kurtosis: {:.4f} {}\n",
    "    --------------------------------\n",
    "    --------------------------------\n",
    "    \"\"\".format(col,mean,median,mode,skew1\n",
    "                ,std,var,rng,IQR,perc25,perc75,std1_lower,std1_upper,std2_lower,std2_upper,std2_lower,std2_upper\n",
    "                ,skew,skewness,kurt,kurtosis\n",
    "              )\n",
    "    )\n",
    "    \n"
   ]
  },
  {
   "cell_type": "code",
   "execution_count": 24,
   "id": "7a0383db",
   "metadata": {
    "scrolled": false
   },
   "outputs": [
    {
     "data": {
      "image/png": "[encoded data removed]",
      "text/plain": [
       "<Figure size 720x360 with 1 Axes>"
      ]
     },
     "metadata": {
      "needs_background": "light"
     },
     "output_type": "display_data"
    },
    {
     "name": "stdout",
     "output_type": "stream",
     "text": [
      "\n",
      "    song_popularity\n",
      "    Mean: 52.99\n",
      "    Median: 56.0\n",
      "    Mode: 58\n",
      "    The distribution is Left-skewed by mean,mode, median relationships.\n",
      "    \n",
      "    Standard Deviation: 21.91\n",
      "    Variance: 479.86\n",
      "    Range: 100\n",
      "    Interquartile range: 29.0 within values 40.00 and 69.00\n",
      "    \n",
      "    By empirical rule:\n",
      "    68% of values fall within 31.09 and 74.90\n",
      "    95% of values fall within 9.18 and 96.80\n",
      "    99.7% of values fall within 9.18 and 96.80\n",
      "    \n",
      "    Skewness: -0.5015 Left-skewed\n",
      "    Kurtosis: -0.1691 Platykurtic (Broad, short tails)\n",
      "    --------------------------------\n",
      "    --------------------------------\n",
      "    \n"
     ]
    },
    {
     "data": {
      "image/png": "[encoded data removed]",
      "text/plain": [
       "<Figure size 720x360 with 1 Axes>"
      ]
     },
     "metadata": {
      "needs_background": "light"
     },
     "output_type": "display_data"
    },
    {
     "name": "stdout",
     "output_type": "stream",
     "text": [
      "\n",
      "    song_duration_ms\n",
      "    Mean: 218211.59\n",
      "    Median: 211306.0\n",
      "    Mode: 165000\n",
      "    The distribution is Right-skewed by mean,mode, median relationships.\n",
      "    \n",
      "    Standard Deviation: 59887.54\n",
      "    Variance: 3586517515.08\n",
      "    Range: 1787346\n",
      "    Interquartile range: 58504.5 within values 184339.50 and 242844.00\n",
      "    \n",
      "    By empirical rule:\n",
      "    68% of values fall within 158324.05 and 278099.13\n",
      "    95% of values fall within 98436.51 and 337986.67\n",
      "    99.7% of values fall within 98436.51 and 337986.67\n",
      "    \n",
      "    Skewness: 3.2575 Right-skewed\n",
      "    Kurtosis: 46.7089 Leptokurtic (Thin, long tails)\n",
      "    --------------------------------\n",
      "    --------------------------------\n",
      "    \n"
     ]
    },
    {
     "data": {
      "image/png": "[encoded data removed]",
      "text/plain": [
       "<Figure size 720x360 with 1 Axes>"
      ]
     },
     "metadata": {
      "needs_background": "light"
     },
     "output_type": "display_data"
    },
    {
     "name": "stdout",
     "output_type": "stream",
     "text": [
      "\n",
      "    acousticness\n",
      "    Mean: 0.26\n",
      "    Median: 0.132\n",
      "    Mode: 0.13\n",
      "    The distribution is Right-skewed by mean,mode, median relationships.\n",
      "    \n",
      "    Standard Deviation: 0.29\n",
      "    Variance: 0.08\n",
      "    Range: 0.99599898\n",
      "    Interquartile range: 0.3999 within values 0.02 and 0.42\n",
      "    \n",
      "    By empirical rule:\n",
      "    68% of values fall within -0.03 and 0.55\n",
      "    95% of values fall within -0.32 and 0.84\n",
      "    99.7% of values fall within -0.32 and 0.84\n",
      "    \n",
      "    Skewness: 1.0712 Right-skewed\n",
      "    Kurtosis: -0.0963 Platykurtic (Broad, short tails)\n",
      "    --------------------------------\n",
      "    --------------------------------\n",
      "    \n"
     ]
    },
    {
     "data": {
      "image/png": "[encoded data removed]",
      "text/plain": [
       "<Figure size 720x360 with 1 Axes>"
      ]
     },
     "metadata": {
      "needs_background": "light"
     },
     "output_type": "display_data"
    },
    {
     "name": "stdout",
     "output_type": "stream",
     "text": [
      "\n",
      "    danceability\n",
      "    Mean: 0.63\n",
      "    Median: 0.645\n",
      "    Mode: 0.687\n",
      "    The distribution is Left-skewed by mean,mode, median relationships.\n",
      "    \n",
      "    Standard Deviation: 0.16\n",
      "    Variance: 0.02\n",
      "    Range: 0.987\n",
      "    Interquartile range: 0.21500000000000008 within values 0.53 and 0.75\n",
      "    \n",
      "    By empirical rule:\n",
      "    68% of values fall within 0.48 and 0.79\n",
      "    95% of values fall within 0.32 and 0.95\n",
      "    99.7% of values fall within 0.32 and 0.95\n",
      "    \n",
      "    Skewness: -0.3917 Left-skewed\n",
      "    Kurtosis: -0.0748 Platykurtic (Broad, short tails)\n",
      "    --------------------------------\n",
      "    --------------------------------\n",
      "    \n"
     ]
    },
    {
     "data": {
      "image/png": "[encoded data removed]",
      "text/plain": [
       "<Figure size 720x360 with 1 Axes>"
      ]
     },
     "metadata": {
      "needs_background": "light"
     },
     "output_type": "display_data"
    },
    {
     "name": "stdout",
     "output_type": "stream",
     "text": [
      "\n",
      "    energy\n",
      "    Mean: 0.64\n",
      "    Median: 0.674\n",
      "    Mode: 0.7040000000000001\n",
      "    The distribution is Left-skewed by mean,mode, median relationships.\n",
      "    \n",
      "    Standard Deviation: 0.21\n",
      "    Variance: 0.05\n",
      "    Range: 0.99793\n",
      "    Interquartile range: 0.30499999999999994 within values 0.51 and 0.81\n",
      "    \n",
      "    By empirical rule:\n",
      "    68% of values fall within 0.43 and 0.86\n",
      "    95% of values fall within 0.22 and 1.07\n",
      "    99.7% of values fall within 0.22 and 1.07\n",
      "    \n",
      "    Skewness: -0.6207 Left-skewed\n",
      "    Kurtosis: -0.1379 Platykurtic (Broad, short tails)\n",
      "    --------------------------------\n",
      "    --------------------------------\n",
      "    \n"
     ]
    },
    {
     "data": {
      "image/png": "[encoded data removed]",
      "text/plain": [
       "<Figure size 720x360 with 1 Axes>"
      ]
     },
     "metadata": {
      "needs_background": "light"
     },
     "output_type": "display_data"
    },
    {
     "name": "stdout",
     "output_type": "stream",
     "text": [
      "\n",
      "    instrumentalness\n",
      "    Mean: 0.08\n",
      "    Median: 1.14e-05\n",
      "    Mode: 0.0\n",
      "    The distribution is Right-skewed by mean,mode, median relationships.\n",
      "    \n",
      "    Standard Deviation: 0.22\n",
      "    Variance: 0.05\n",
      "    Range: 0.997\n",
      "    Interquartile range: 0.00257 within values 0.00 and 0.00\n",
      "    \n",
      "    By empirical rule:\n",
      "    68% of values fall within -0.14 and 0.30\n",
      "    95% of values fall within -0.37 and 0.52\n",
      "    99.7% of values fall within -0.37 and 0.52\n",
      "    \n",
      "    Skewness: 2.9852 Right-skewed\n",
      "    Kurtosis: 7.5637 Leptokurtic (Thin, long tails)\n",
      "    --------------------------------\n",
      "    --------------------------------\n",
      "    \n"
     ]
    },
    {
     "data": {
      "image/png": "[encoded data removed]",
      "text/plain": [
       "<Figure size 720x360 with 1 Axes>"
      ]
     },
     "metadata": {
      "needs_background": "light"
     },
     "output_type": "display_data"
    },
    {
     "name": "stdout",
     "output_type": "stream",
     "text": [
      "\n",
      "    liveness\n",
      "    Mean: 0.18\n",
      "    Median: 0.122\n",
      "    Mode: 0.108\n",
      "    The distribution is Right-skewed by mean,mode, median relationships.\n",
      "    \n",
      "    Standard Deviation: 0.14\n",
      "    Variance: 0.02\n",
      "    Range: 0.9751\n",
      "    Interquartile range: 0.1281 within values 0.09 and 0.22\n",
      "    \n",
      "    By empirical rule:\n",
      "    68% of values fall within 0.04 and 0.32\n",
      "    95% of values fall within -0.11 and 0.47\n",
      "    99.7% of values fall within -0.11 and 0.47\n",
      "    \n",
      "    Skewness: 2.2154 Right-skewed\n",
      "    Kurtosis: 5.7899 Leptokurtic (Thin, long tails)\n",
      "    --------------------------------\n",
      "    --------------------------------\n",
      "    \n"
     ]
    },
    {
     "data": {
      "image/png": "[encoded data removed]",
      "text/plain": [
       "<Figure size 720x360 with 1 Axes>"
      ]
     },
     "metadata": {
      "needs_background": "light"
     },
     "output_type": "display_data"
    },
    {
     "name": "stdout",
     "output_type": "stream",
     "text": [
      "\n",
      "    loudness\n",
      "    Mean: -7.45\n",
      "    Median: -6.555\n",
      "    Mode: -4.589\n",
      "    The distribution is Left-skewed by mean,mode, median relationships.\n",
      "    \n",
      "    Standard Deviation: 3.83\n",
      "    Variance: 14.65\n",
      "    Range: 40.353\n",
      "    Interquartile range: 4.136 within values -9.04 and -4.91\n",
      "    \n",
      "    By empirical rule:\n",
      "    68% of values fall within -11.28 and -3.62\n",
      "    95% of values fall within -15.10 and 0.21\n",
      "    99.7% of values fall within -15.10 and 0.21\n",
      "    \n",
      "    Skewness: -1.9295 Left-skewed\n",
      "    Kurtosis: 6.5225 Leptokurtic (Thin, long tails)\n",
      "    --------------------------------\n",
      "    --------------------------------\n",
      "    \n"
     ]
    },
    {
     "data": {
      "image/png": "[encoded data removed]",
      "text/plain": [
       "<Figure size 720x360 with 1 Axes>"
      ]
     },
     "metadata": {
      "needs_background": "light"
     },
     "output_type": "display_data"
    },
    {
     "name": "stdout",
     "output_type": "stream",
     "text": [
      "\n",
      "    speechiness\n",
      "    Mean: 0.10\n",
      "    Median: 0.0555\n",
      "    Mode: 0.0337\n",
      "    The distribution is Right-skewed by mean,mode, median relationships.\n",
      "    \n",
      "    Standard Deviation: 0.10\n",
      "    Variance: 0.01\n",
      "    Range: 0.941\n",
      "    Interquartile range: 0.0812 within values 0.04 and 0.12\n",
      "    \n",
      "    By empirical rule:\n",
      "    68% of values fall within -0.00 and 0.21\n",
      "    95% of values fall within -0.11 and 0.31\n",
      "    99.7% of values fall within -0.11 and 0.31\n",
      "    \n",
      "    Skewness: 2.2710 Right-skewed\n",
      "    Kurtosis: 6.5050 Leptokurtic (Thin, long tails)\n",
      "    --------------------------------\n",
      "    --------------------------------\n",
      "    \n"
     ]
    },
    {
     "data": {
      "image/png": "[encoded data removed]",
      "text/plain": [
       "<Figure size 720x360 with 1 Axes>"
      ]
     },
     "metadata": {
      "needs_background": "light"
     },
     "output_type": "display_data"
    },
    {
     "name": "stdout",
     "output_type": "stream",
     "text": [
      "\n",
      "    tempo\n",
      "    Mean: 121.07\n",
      "    Median: 120.013\n",
      "    Mode: 125.978\n",
      "    The distribution is  by mean,mode, median relationships.\n",
      "    \n",
      "    Standard Deviation: 28.71\n",
      "    Variance: 824.52\n",
      "    Range: 242.318\n",
      "    Interquartile range: 41.56300000000002 within values 98.37 and 139.93\n",
      "    \n",
      "    By empirical rule:\n",
      "    68% of values fall within 92.36 and 149.79\n",
      "    95% of values fall within 63.64 and 178.50\n",
      "    99.7% of values fall within 63.64 and 178.50\n",
      "    \n",
      "    Skewness: 0.4429 Right-skewed\n",
      "    Kurtosis: -0.2175 Platykurtic (Broad, short tails)\n",
      "    --------------------------------\n",
      "    --------------------------------\n",
      "    \n"
     ]
    },
    {
     "data": {
      "image/png": "[encoded data removed]",
      "text/plain": [
       "<Figure size 720x360 with 1 Axes>"
      ]
     },
     "metadata": {
      "needs_background": "light"
     },
     "output_type": "display_data"
    },
    {
     "name": "stdout",
     "output_type": "stream",
     "text": [
      "\n",
      "    audio_valence\n",
      "    Mean: 0.53\n",
      "    Median: 0.527\n",
      "    Mode: 0.961\n",
      "    The distribution is  by mean,mode, median relationships.\n",
      "    \n",
      "    Standard Deviation: 0.24\n",
      "    Variance: 0.06\n",
      "    Range: 0.984\n",
      "    Interquartile range: 0.38999999999999996 within values 0.34 and 0.72\n",
      "    \n",
      "    By empirical rule:\n",
      "    68% of values fall within 0.28 and 0.77\n",
      "    95% of values fall within 0.04 and 1.02\n",
      "    99.7% of values fall within 0.04 and 1.02\n",
      "    \n",
      "    Skewness: -0.0164 Left-skewed\n",
      "    Kurtosis: -0.9777 Platykurtic (Broad, short tails)\n",
      "    --------------------------------\n",
      "    --------------------------------\n",
      "    \n"
     ]
    },
    {
     "data": {
      "image/png": "[encoded data removed]",
      "text/plain": [
       "<Figure size 720x360 with 1 Axes>"
      ]
     },
     "metadata": {
      "needs_background": "light"
     },
     "output_type": "display_data"
    },
    {
     "name": "stdout",
     "output_type": "stream",
     "text": [
      "\n",
      "    song_duration_mins\n",
      "    Mean: 3.64\n",
      "    Median: 3.5217666666666667\n",
      "    Mode: 2.75\n",
      "    The distribution is Right-skewed by mean,mode, median relationships.\n",
      "    \n",
      "    Standard Deviation: 1.00\n",
      "    Variance: 1.00\n",
      "    Range: 29.7891\n",
      "    Interquartile range: 0.9750749999999995 within values 3.07 and 4.05\n",
      "    \n",
      "    By empirical rule:\n",
      "    68% of values fall within 2.64 and 4.63\n",
      "    95% of values fall within 1.64 and 5.63\n",
      "    99.7% of values fall within 1.64 and 5.63\n",
      "    \n",
      "    Skewness: 3.2575 Right-skewed\n",
      "    Kurtosis: 46.7089 Leptokurtic (Thin, long tails)\n",
      "    --------------------------------\n",
      "    --------------------------------\n",
      "    \n",
      "Wall time: 3.4 s\n"
     ]
    }
   ],
   "source": [
    "%%time\n",
    "cols = df.select_dtypes(include=np.number).columns.values # choose numeric columns only\n",
    "for i in cols:\n",
    "    quick_stat(df,i)"
   ]
  }
 ],
 "metadata": {
  "hide_input": false,
  "kernelspec": {
   "display_name": "Python 3 (ipykernel)",
   "language": "python",
   "name": "python3"
  },
  "language_info": {
   "codemirror_mode": {
    "name": "ipython",
    "version": 3
   },
   "file_extension": ".py",
   "mimetype": "text/x-python",
   "name": "python",
   "nbconvert_exporter": "python",
   "pygments_lexer": "ipython3",
   "version": "3.9.7"
  },
  "toc": {
   "base_numbering": 1,
   "nav_menu": {},
   "number_sections": true,
   "sideBar": true,
   "skip_h1_title": false,
   "title_cell": "Table of Contents",
   "title_sidebar": "Contents",
   "toc_cell": false,
   "toc_position": {
    "height": "calc(100% - 180px)",
    "left": "10px",
    "top": "150px",
    "width": "384px"
   },
   "toc_section_display": true,
   "toc_window_display": true
  }
 },
 "nbformat": 4,
 "nbformat_minor": 5
}
